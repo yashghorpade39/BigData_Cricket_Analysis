{
 "cells": [
  {
   "cell_type": "code",
   "execution_count": 10,
   "id": "df89fa83-4486-4c17-944e-7cdf7c3a34ad",
   "metadata": {},
   "outputs": [],
   "source": [
    "from pyspark.sql import SparkSession\n",
    "from pyspark.sql.functions import col, split, regexp_replace, coalesce"
   ]
  },
  {
   "cell_type": "code",
   "execution_count": 11,
   "id": "a2369151-51a4-486c-bcd8-1987b61ca9c8",
   "metadata": {},
   "outputs": [],
   "source": [
    "import findspark\n",
    "findspark.init()"
   ]
  },
  {
   "cell_type": "code",
   "execution_count": 12,
   "id": "55cb0e18-bef6-4581-821f-411df3516822",
   "metadata": {},
   "outputs": [],
   "source": [
    "spark=SparkSession.builder.appName('BigData Cricket Analysis').getOrCreate()"
   ]
  },
  {
   "cell_type": "code",
   "execution_count": 13,
   "id": "280c72fc-e354-43c8-a1a4-655ae48187da",
   "metadata": {},
   "outputs": [
    {
     "data": {
      "text/html": [
       "\n",
       "            <div>\n",
       "                <p><b>SparkSession - in-memory</b></p>\n",
       "                \n",
       "        <div>\n",
       "            <p><b>SparkContext</b></p>\n",
       "\n",
       "            <p><a href=\"http://10.140.49.165:4041\">Spark UI</a></p>\n",
       "\n",
       "            <dl>\n",
       "              <dt>Version</dt>\n",
       "                <dd><code>v3.5.1</code></dd>\n",
       "              <dt>Master</dt>\n",
       "                <dd><code>local[*]</code></dd>\n",
       "              <dt>AppName</dt>\n",
       "                <dd><code>BigData Cricket Analysis</code></dd>\n",
       "            </dl>\n",
       "        </div>\n",
       "        \n",
       "            </div>\n",
       "        "
      ],
      "text/plain": [
       "<pyspark.sql.session.SparkSession at 0x222af5c1210>"
      ]
     },
     "execution_count": 13,
     "metadata": {},
     "output_type": "execute_result"
    }
   ],
   "source": [
    "spark"
   ]
  },
  {
   "cell_type": "code",
   "execution_count": 14,
   "id": "22605fcf-48b1-4b72-a505-8cd9b81fcafd",
   "metadata": {},
   "outputs": [],
   "source": [
    "fact_balls = spark.read.csv(\"C:\\\\Users\\\\Patron\\\\Downloads\\\\balls.csv\", header = True)\n",
    "dim_matches = spark.read.csv(\"C:\\\\Users\\\\Patron\\\\Downloads\\\\matches.csv\", header = True)\n",
    "dim_players = spark.read.csv(\"C:\\\\Users\\\\Patron\\\\Downloads\\\\players.csv\", header = True)"
   ]
  },
  {
   "cell_type": "code",
   "execution_count": 17,
   "id": "b9e33082-fcf4-490e-a31b-4cd161e5a6a4",
   "metadata": {},
   "outputs": [],
   "source": [
    "import pyspark.sql.functions as F"
   ]
  },
  {
   "cell_type": "code",
   "execution_count": 18,
   "id": "f660e9e0-c935-41c2-8313-41a684154abd",
   "metadata": {},
   "outputs": [],
   "source": [
    "pattern1 = r\"[\\[\\]']\"\n",
    "pattern2 = r\", \""
   ]
  },
  {
   "cell_type": "code",
   "execution_count": 24,
   "id": "cafc5039-ac57-4ad3-bd6e-e815fbb0c217",
   "metadata": {},
   "outputs": [
    {
     "name": "stdout",
     "output_type": "stream",
     "text": [
      "+--------+--------------------+--------------------+--------------------+----------+------+--------------------+------+----------------+--------------------+\n",
      "|match_id|                team|               event|               venue|      city|gender|              winner|method| player_of_match|              umpire|\n",
      "+--------+--------------------+--------------------+--------------------+----------+------+--------------------+------+----------------+--------------------+\n",
      "| 1058152|      [Saudi Arabia]|Kenya T20 Quadran...|Gymkhana Club Ground|   Nairobi|  male|        Saudi Arabia|  NULL|            NULL|['PM Musoke', 'W ...|\n",
      "| 1150126|        [Queensland]|    Sheffield Shield|Junction Oval, Me...| Melbourne|  male|            Victoria|  NULL|       MS Harris|['SB Haig', 'SD F...|\n",
      "| 1163051|           [Lesotho]|ICC World Twenty2...|Botswana Cricket ...|  Gaborone|  male|             Lesotho|  NULL|  Sarfaraj Patel|['Justine Muzungu...|\n",
      "| 1174831|           [Namibia]|ICC World Cricket...|Wanderers Cricket...|  Windhoek|  male|United States of ...|  NULL|        Ali Khan|['CA Polosak', 'T...|\n",
      "| 1175044|          [Vidarbha]|Syed Mushtaq Ali ...| Emerald Heights ...|      NULL|  male|           Karnataka|  NULL|            NULL|                NULL|\n",
      "| 1182657|          [Tanzania]|ICC Women's T20 W...|Takashinga Sports...|    Harare|female|            Tanzania|  NULL|       FO Kibasu|['IO Oyieko', 'Ju...|\n",
      "| 1205862|        [Tamil Nadu]|Syed Mushtaq Ali ...|Lalbhai Contracto...|      NULL|  male|           Karnataka|  NULL|            NULL|                NULL|\n",
      "| 1199546|           [Ireland]|ICC Men's T20 Wor...|Dubai Internation...|     Dubai|  male|         Netherlands|  NULL|RE van der Merwe|['Sharfuddoula', ...|\n",
      "| 1205763|            [Punjab]|Syed Mushtaq Ali ...|Cricket Stadium, ...|      NULL|  male|              Punjab|  NULL|            NULL|                NULL|\n",
      "| 1247015|    [Peshawar Zalmi]|Pakistan Super Le...|    National Stadium|   Karachi|  male|      Peshawar Zalmi|  NULL|T Kohler-Cadmore|['Aleem Dar', 'RK...|\n",
      "| 1244381|           [Mizoram]|Syed Mushtaq Ali ...|  SSN College Ground|      NULL|  male|            Nagaland|  NULL|            NULL|                NULL|\n",
      "| 1205715|             [Bihar]|Syed Mushtaq Ali ...|Dr P.V.G. Raju AC...|      NULL|  male|              Andhra|  NULL|            NULL|                NULL|\n",
      "| 1280278|          [Services]|Syed Mushtaq Ali ...|ACA Stadium, Bars...|      NULL|  male|        Chhattisgarh|  NULL|            NULL|                NULL|\n",
      "| 1226841|   [Perth Scorchers]|     Big Bash League|      Bellerive Oval|    Hobart|  male| Melbourne Renegades|  NULL|        JK Lalor|['DM Koch', 'MW G...|\n",
      "| 1282742|           [Denmark]|ICC Men's T20 Wor...|Desert Springs Cr...|   Almeria|  male|              Jersey|  NULL|     CW Perchard|['DA Haggo', 'N B...|\n",
      "| 1298053|  [South East Stars]|Charlotte Edwards...|County Ground, Ch...|Chelmsford|female|    South East Stars|  NULL|            NULL|['N Pratt', 'SM B...|\n",
      "| 1333024|            [Baroda]|Syed Mushtaq Ali ...|Holkar Cricket St...|    Indore|  male|    Himachal Pradesh|  NULL|            NULL|['A Bengeri', 'Sa...|\n",
      "| 1321260|           [Romania]|ICC Men's T20 Wor...|Kerava National C...|    Kerava|  male|             Romania|  NULL|         V Saini|['S Kuchimanchi',...|\n",
      "| 1323151|[Trinbago Knight ...|Caribbean Premier...|Daren Sammy Natio...|Gros Islet|  male|     Barbados Royals|   D/L|       DA Miller|['DK Butler', 'N ...|\n",
      "| 1324630|[Melbourne Renega...|     Big Bash League|Docklands Stadium...| Melbourne|  male| Melbourne Renegades|  NULL|        AJ Finch|['BC Treloar', 'S...|\n",
      "+--------+--------------------+--------------------+--------------------+----------+------+--------------------+------+----------------+--------------------+\n",
      "only showing top 20 rows\n",
      "\n"
     ]
    }
   ],
   "source": [
    "unnested_rows = dim_matches.withColumn(\"team\", regexp_replace(col(\"team\"), pattern1, \"\")) \\\n",
    "    .withColumn(\"dates_played\", regexp_replace(col(\"dates_played\"), pattern1, \"\")) \\\n",
    "    .withColumn(\"team\", split(col(\"team\"), pattern2)) \\\n",
    "    .withColumn(\"player\", split(col(\"player_of_match\"), pattern2)) \\\n",
    "    .select(\n",
    "        col(\"match_id\"),\n",
    "        col(\"team\"),\n",
    "        col(\"event\"),\n",
    "        col(\"venue\"),\n",
    "        col(\"city\"),\n",
    "        col(\"gender\"),\n",
    "        col(\"winner\"),\n",
    "        col(\"method\"),\n",
    "        col(\"player_of_match\").alias(\"player_of_match\"),\n",
    "        col(\"umpire\")\n",
    "    )\n",
    "\n",
    "unnested_rows.show()\n",
    "\n",
    "# Stop the Spark session\n",
    "spark.stop()"
   ]
  },
  {
   "cell_type": "code",
   "execution_count": null,
   "id": "7132063a-16c3-4929-94a6-fa8a76bca7ad",
   "metadata": {},
   "outputs": [],
   "source": []
  }
 ],
 "metadata": {
  "kernelspec": {
   "display_name": "Python 3 (ipykernel)",
   "language": "python",
   "name": "python3"
  },
  "language_info": {
   "codemirror_mode": {
    "name": "ipython",
    "version": 3
   },
   "file_extension": ".py",
   "mimetype": "text/x-python",
   "name": "python",
   "nbconvert_exporter": "python",
   "pygments_lexer": "ipython3",
   "version": "3.11.5"
  }
 },
 "nbformat": 4,
 "nbformat_minor": 5
}
