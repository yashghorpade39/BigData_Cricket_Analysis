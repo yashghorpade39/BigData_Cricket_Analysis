{
 "cells": [
  {
   "cell_type": "code",
   "execution_count": 8,
   "id": "d7f18a04-db21-479a-81be-add443f319ab",
   "metadata": {},
   "outputs": [],
   "source": [
    "from pyspark.sql import SparkSession\n",
    "from pyspark.sql.functions import col\n",
    "from pyspark.sql.functions import col, split, when\n"
   ]
  },
  {
   "cell_type": "code",
   "execution_count": 9,
   "id": "6b46394e-326e-4aec-9f12-34ecd623af92",
   "metadata": {},
   "outputs": [],
   "source": [
    "import findspark\n",
    "findspark.init()"
   ]
  },
  {
   "cell_type": "code",
   "execution_count": 10,
   "id": "006bf4e1-6753-473e-a8af-61e822059c62",
   "metadata": {},
   "outputs": [],
   "source": [
    "spark=SparkSession.builder.appName('BigData Cricket Analysis').getOrCreate()"
   ]
  },
  {
   "cell_type": "code",
   "execution_count": 11,
   "id": "ae4e5df7-fb31-41a4-994e-1f14e91d6a85",
   "metadata": {},
   "outputs": [
    {
     "data": {
      "text/html": [
       "\n",
       "            <div>\n",
       "                <p><b>SparkSession - in-memory</b></p>\n",
       "                \n",
       "        <div>\n",
       "            <p><b>SparkContext</b></p>\n",
       "\n",
       "            <p><a href=\"http://10.140.49.165:4042\">Spark UI</a></p>\n",
       "\n",
       "            <dl>\n",
       "              <dt>Version</dt>\n",
       "                <dd><code>v3.5.1</code></dd>\n",
       "              <dt>Master</dt>\n",
       "                <dd><code>local[*]</code></dd>\n",
       "              <dt>AppName</dt>\n",
       "                <dd><code>BigData Cricket Analysis</code></dd>\n",
       "            </dl>\n",
       "        </div>\n",
       "        \n",
       "            </div>\n",
       "        "
      ],
      "text/plain": [
       "<pyspark.sql.session.SparkSession at 0x1f703a60890>"
      ]
     },
     "execution_count": 11,
     "metadata": {},
     "output_type": "execute_result"
    }
   ],
   "source": [
    "spark"
   ]
  },
  {
   "cell_type": "code",
   "execution_count": 12,
   "id": "487f238b-2ebc-4db8-8362-7d0f32705e74",
   "metadata": {},
   "outputs": [],
   "source": [
    "fact_balls = spark.read.csv(\"C:\\\\Users\\\\Patron\\\\Downloads\\\\balls.csv\", header = True)\n",
    "dim_matches = spark.read.csv(\"C:\\\\Users\\\\Patron\\\\Downloads\\\\matches.csv\", header = True)\n",
    "dim_players = spark.read.csv(\"C:\\\\Users\\\\Patron\\\\Downloads\\\\players.csv\", header = True)"
   ]
  },
  {
   "cell_type": "code",
   "execution_count": 13,
   "id": "86348544-aaee-4555-8b5f-fbf69d581930",
   "metadata": {},
   "outputs": [
    {
     "ename": "AnalysisException",
     "evalue": "[UNRESOLVED_COLUMN.WITH_SUGGESTION] A column or function parameter with name `wides` cannot be resolved. Did you mean one of the following? [`overs`, `ball`, `bowler`, `extras`, `innings`].;\n'Project [match_id#128, innings#132, split(cast(ball#134 as string), \\., -1)[0] AS overs#222, split(cast(ball#134 as string), \\., -1)[1] AS ball#223, striker#129, non_striker#130, bowler#131, runs_off_bat#135, extras#136, 'wides, 'noballs, 'byes, 'legbyes, 'penalty, wicket_type#139, player_dismissed#140, 'other_wicket_type, other_player_dismissed#141]\n+- Relation [match_id#128,striker#129,non_striker#130,bowler#131,innings#132,overs#133,ball#134,runs_off_bat#135,extras#136,extras_type#137,wicket_flg#138,wicket_type#139,player_dismissed#140,other_player_dismissed#141] csv\n",
     "output_type": "error",
     "traceback": [
      "\u001b[1;31m---------------------------------------------------------------------------\u001b[0m",
      "\u001b[1;31mAnalysisException\u001b[0m                         Traceback (most recent call last)",
      "Cell \u001b[1;32mIn[13], line 1\u001b[0m\n\u001b[1;32m----> 1\u001b[0m deliveries \u001b[38;5;241m=\u001b[39m fact_balls\u001b[38;5;241m.\u001b[39mselect(\n\u001b[0;32m      2\u001b[0m     col(\u001b[38;5;124m\"\u001b[39m\u001b[38;5;124mmatch_id\u001b[39m\u001b[38;5;124m\"\u001b[39m),\n\u001b[0;32m      3\u001b[0m     col(\u001b[38;5;124m\"\u001b[39m\u001b[38;5;124minnings\u001b[39m\u001b[38;5;124m\"\u001b[39m),\n\u001b[0;32m      4\u001b[0m     split(col(\u001b[38;5;124m\"\u001b[39m\u001b[38;5;124mball\u001b[39m\u001b[38;5;124m\"\u001b[39m)\u001b[38;5;241m.\u001b[39mcast(\u001b[38;5;124m\"\u001b[39m\u001b[38;5;124mstring\u001b[39m\u001b[38;5;124m\"\u001b[39m), \u001b[38;5;124m\"\u001b[39m\u001b[38;5;124m\\\u001b[39m\u001b[38;5;124m.\u001b[39m\u001b[38;5;124m\"\u001b[39m)[\u001b[38;5;241m0\u001b[39m]\u001b[38;5;241m.\u001b[39malias(\u001b[38;5;124m\"\u001b[39m\u001b[38;5;124movers\u001b[39m\u001b[38;5;124m\"\u001b[39m),\n\u001b[0;32m      5\u001b[0m     split(col(\u001b[38;5;124m\"\u001b[39m\u001b[38;5;124mball\u001b[39m\u001b[38;5;124m\"\u001b[39m)\u001b[38;5;241m.\u001b[39mcast(\u001b[38;5;124m\"\u001b[39m\u001b[38;5;124mstring\u001b[39m\u001b[38;5;124m\"\u001b[39m), \u001b[38;5;124m\"\u001b[39m\u001b[38;5;124m\\\u001b[39m\u001b[38;5;124m.\u001b[39m\u001b[38;5;124m\"\u001b[39m)[\u001b[38;5;241m1\u001b[39m]\u001b[38;5;241m.\u001b[39malias(\u001b[38;5;124m\"\u001b[39m\u001b[38;5;124mball\u001b[39m\u001b[38;5;124m\"\u001b[39m),\n\u001b[0;32m      6\u001b[0m     col(\u001b[38;5;124m\"\u001b[39m\u001b[38;5;124mstriker\u001b[39m\u001b[38;5;124m\"\u001b[39m),\n\u001b[0;32m      7\u001b[0m     col(\u001b[38;5;124m\"\u001b[39m\u001b[38;5;124mnon_striker\u001b[39m\u001b[38;5;124m\"\u001b[39m),\n\u001b[0;32m      8\u001b[0m     col(\u001b[38;5;124m\"\u001b[39m\u001b[38;5;124mbowler\u001b[39m\u001b[38;5;124m\"\u001b[39m),\n\u001b[0;32m      9\u001b[0m     col(\u001b[38;5;124m\"\u001b[39m\u001b[38;5;124mruns_off_bat\u001b[39m\u001b[38;5;124m\"\u001b[39m),\n\u001b[0;32m     10\u001b[0m     col(\u001b[38;5;124m\"\u001b[39m\u001b[38;5;124mextras\u001b[39m\u001b[38;5;124m\"\u001b[39m),\n\u001b[0;32m     11\u001b[0m     col(\u001b[38;5;124m\"\u001b[39m\u001b[38;5;124mwides\u001b[39m\u001b[38;5;124m\"\u001b[39m),\n\u001b[0;32m     12\u001b[0m     col(\u001b[38;5;124m\"\u001b[39m\u001b[38;5;124mnoballs\u001b[39m\u001b[38;5;124m\"\u001b[39m),\n\u001b[0;32m     13\u001b[0m     col(\u001b[38;5;124m\"\u001b[39m\u001b[38;5;124mbyes\u001b[39m\u001b[38;5;124m\"\u001b[39m),\n\u001b[0;32m     14\u001b[0m     col(\u001b[38;5;124m\"\u001b[39m\u001b[38;5;124mlegbyes\u001b[39m\u001b[38;5;124m\"\u001b[39m),\n\u001b[0;32m     15\u001b[0m     col(\u001b[38;5;124m\"\u001b[39m\u001b[38;5;124mpenalty\u001b[39m\u001b[38;5;124m\"\u001b[39m),\n\u001b[0;32m     16\u001b[0m     col(\u001b[38;5;124m\"\u001b[39m\u001b[38;5;124mwicket_type\u001b[39m\u001b[38;5;124m\"\u001b[39m),\n\u001b[0;32m     17\u001b[0m     col(\u001b[38;5;124m\"\u001b[39m\u001b[38;5;124mplayer_dismissed\u001b[39m\u001b[38;5;124m\"\u001b[39m),\n\u001b[0;32m     18\u001b[0m     col(\u001b[38;5;124m\"\u001b[39m\u001b[38;5;124mother_wicket_type\u001b[39m\u001b[38;5;124m\"\u001b[39m),\n\u001b[0;32m     19\u001b[0m     col(\u001b[38;5;124m\"\u001b[39m\u001b[38;5;124mother_player_dismissed\u001b[39m\u001b[38;5;124m\"\u001b[39m)\n\u001b[0;32m     20\u001b[0m )\n\u001b[0;32m     22\u001b[0m \u001b[38;5;66;03m# Defining additional columns as per the provided SQL logic\u001b[39;00m\n\u001b[0;32m     23\u001b[0m result \u001b[38;5;241m=\u001b[39m deliveries\u001b[38;5;241m.\u001b[39mselect(\n\u001b[0;32m     24\u001b[0m     col(\u001b[38;5;124m\"\u001b[39m\u001b[38;5;124mmatch_id\u001b[39m\u001b[38;5;124m\"\u001b[39m),\n\u001b[0;32m     25\u001b[0m     col(\u001b[38;5;124m\"\u001b[39m\u001b[38;5;124mstriker\u001b[39m\u001b[38;5;124m\"\u001b[39m),\n\u001b[1;32m   (...)\u001b[0m\n\u001b[0;32m     42\u001b[0m     col(\u001b[38;5;124m\"\u001b[39m\u001b[38;5;124mother_player_dismissed\u001b[39m\u001b[38;5;124m\"\u001b[39m)\n\u001b[0;32m     43\u001b[0m )\n",
      "File \u001b[1;32m~\\anaconda3\\Lib\\site-packages\\pyspark\\sql\\dataframe.py:3227\u001b[0m, in \u001b[0;36mDataFrame.select\u001b[1;34m(self, *cols)\u001b[0m\n\u001b[0;32m   3182\u001b[0m \u001b[38;5;28;01mdef\u001b[39;00m \u001b[38;5;21mselect\u001b[39m(\u001b[38;5;28mself\u001b[39m, \u001b[38;5;241m*\u001b[39mcols: \u001b[38;5;124m\"\u001b[39m\u001b[38;5;124mColumnOrName\u001b[39m\u001b[38;5;124m\"\u001b[39m) \u001b[38;5;241m-\u001b[39m\u001b[38;5;241m>\u001b[39m \u001b[38;5;124m\"\u001b[39m\u001b[38;5;124mDataFrame\u001b[39m\u001b[38;5;124m\"\u001b[39m:  \u001b[38;5;66;03m# type: ignore[misc]\u001b[39;00m\n\u001b[0;32m   3183\u001b[0m \u001b[38;5;250m    \u001b[39m\u001b[38;5;124;03m\"\"\"Projects a set of expressions and returns a new :class:`DataFrame`.\u001b[39;00m\n\u001b[0;32m   3184\u001b[0m \n\u001b[0;32m   3185\u001b[0m \u001b[38;5;124;03m    .. versionadded:: 1.3.0\u001b[39;00m\n\u001b[1;32m   (...)\u001b[0m\n\u001b[0;32m   3225\u001b[0m \u001b[38;5;124;03m    +-----+---+\u001b[39;00m\n\u001b[0;32m   3226\u001b[0m \u001b[38;5;124;03m    \"\"\"\u001b[39;00m\n\u001b[1;32m-> 3227\u001b[0m     jdf \u001b[38;5;241m=\u001b[39m \u001b[38;5;28mself\u001b[39m\u001b[38;5;241m.\u001b[39m_jdf\u001b[38;5;241m.\u001b[39mselect(\u001b[38;5;28mself\u001b[39m\u001b[38;5;241m.\u001b[39m_jcols(\u001b[38;5;241m*\u001b[39mcols))\n\u001b[0;32m   3228\u001b[0m     \u001b[38;5;28;01mreturn\u001b[39;00m DataFrame(jdf, \u001b[38;5;28mself\u001b[39m\u001b[38;5;241m.\u001b[39msparkSession)\n",
      "File \u001b[1;32m~\\anaconda3\\Lib\\site-packages\\py4j\\java_gateway.py:1322\u001b[0m, in \u001b[0;36mJavaMember.__call__\u001b[1;34m(self, *args)\u001b[0m\n\u001b[0;32m   1316\u001b[0m command \u001b[38;5;241m=\u001b[39m proto\u001b[38;5;241m.\u001b[39mCALL_COMMAND_NAME \u001b[38;5;241m+\u001b[39m\\\n\u001b[0;32m   1317\u001b[0m     \u001b[38;5;28mself\u001b[39m\u001b[38;5;241m.\u001b[39mcommand_header \u001b[38;5;241m+\u001b[39m\\\n\u001b[0;32m   1318\u001b[0m     args_command \u001b[38;5;241m+\u001b[39m\\\n\u001b[0;32m   1319\u001b[0m     proto\u001b[38;5;241m.\u001b[39mEND_COMMAND_PART\n\u001b[0;32m   1321\u001b[0m answer \u001b[38;5;241m=\u001b[39m \u001b[38;5;28mself\u001b[39m\u001b[38;5;241m.\u001b[39mgateway_client\u001b[38;5;241m.\u001b[39msend_command(command)\n\u001b[1;32m-> 1322\u001b[0m return_value \u001b[38;5;241m=\u001b[39m get_return_value(\n\u001b[0;32m   1323\u001b[0m     answer, \u001b[38;5;28mself\u001b[39m\u001b[38;5;241m.\u001b[39mgateway_client, \u001b[38;5;28mself\u001b[39m\u001b[38;5;241m.\u001b[39mtarget_id, \u001b[38;5;28mself\u001b[39m\u001b[38;5;241m.\u001b[39mname)\n\u001b[0;32m   1325\u001b[0m \u001b[38;5;28;01mfor\u001b[39;00m temp_arg \u001b[38;5;129;01min\u001b[39;00m temp_args:\n\u001b[0;32m   1326\u001b[0m     \u001b[38;5;28;01mif\u001b[39;00m \u001b[38;5;28mhasattr\u001b[39m(temp_arg, \u001b[38;5;124m\"\u001b[39m\u001b[38;5;124m_detach\u001b[39m\u001b[38;5;124m\"\u001b[39m):\n",
      "File \u001b[1;32m~\\anaconda3\\Lib\\site-packages\\pyspark\\errors\\exceptions\\captured.py:185\u001b[0m, in \u001b[0;36mcapture_sql_exception.<locals>.deco\u001b[1;34m(*a, **kw)\u001b[0m\n\u001b[0;32m    181\u001b[0m converted \u001b[38;5;241m=\u001b[39m convert_exception(e\u001b[38;5;241m.\u001b[39mjava_exception)\n\u001b[0;32m    182\u001b[0m \u001b[38;5;28;01mif\u001b[39;00m \u001b[38;5;129;01mnot\u001b[39;00m \u001b[38;5;28misinstance\u001b[39m(converted, UnknownException):\n\u001b[0;32m    183\u001b[0m     \u001b[38;5;66;03m# Hide where the exception came from that shows a non-Pythonic\u001b[39;00m\n\u001b[0;32m    184\u001b[0m     \u001b[38;5;66;03m# JVM exception message.\u001b[39;00m\n\u001b[1;32m--> 185\u001b[0m     \u001b[38;5;28;01mraise\u001b[39;00m converted \u001b[38;5;28;01mfrom\u001b[39;00m \u001b[38;5;28;01mNone\u001b[39;00m\n\u001b[0;32m    186\u001b[0m \u001b[38;5;28;01melse\u001b[39;00m:\n\u001b[0;32m    187\u001b[0m     \u001b[38;5;28;01mraise\u001b[39;00m\n",
      "\u001b[1;31mAnalysisException\u001b[0m: [UNRESOLVED_COLUMN.WITH_SUGGESTION] A column or function parameter with name `wides` cannot be resolved. Did you mean one of the following? [`overs`, `ball`, `bowler`, `extras`, `innings`].;\n'Project [match_id#128, innings#132, split(cast(ball#134 as string), \\., -1)[0] AS overs#222, split(cast(ball#134 as string), \\., -1)[1] AS ball#223, striker#129, non_striker#130, bowler#131, runs_off_bat#135, extras#136, 'wides, 'noballs, 'byes, 'legbyes, 'penalty, wicket_type#139, player_dismissed#140, 'other_wicket_type, other_player_dismissed#141]\n+- Relation [match_id#128,striker#129,non_striker#130,bowler#131,innings#132,overs#133,ball#134,runs_off_bat#135,extras#136,extras_type#137,wicket_flg#138,wicket_type#139,player_dismissed#140,other_player_dismissed#141] csv\n"
     ]
    }
   ],
   "source": [
    "deliveries = fact_balls.select(\n",
    "    col(\"match_id\"),\n",
    "    col(\"innings\"),\n",
    "    split(col(\"ball\").cast(\"string\"), \"\\.\")[0].alias(\"overs\"),\n",
    "    split(col(\"ball\").cast(\"string\"), \"\\.\")[1].alias(\"ball\"),\n",
    "    col(\"striker\"),\n",
    "    col(\"non_striker\"),\n",
    "    col(\"bowler\"),\n",
    "    col(\"runs_off_bat\"),\n",
    "    col(\"extras\"),\n",
    "    col(\"wides\"),\n",
    "    col(\"noballs\"),\n",
    "    col(\"byes\"),\n",
    "    col(\"legbyes\"),\n",
    "    col(\"penalty\"),\n",
    "    col(\"wicket_type\"),\n",
    "    col(\"player_dismissed\"),\n",
    "    col(\"other_wicket_type\"),\n",
    "    col(\"other_player_dismissed\")\n",
    ")\n",
    "\n",
    "# Defining additional columns as per the provided SQL logic\n",
    "result = deliveries.select(\n",
    "    col(\"match_id\"),\n",
    "    col(\"striker\"),\n",
    "    col(\"non_striker\"),\n",
    "    col(\"bowler\"),\n",
    "    col(\"innings\"),\n",
    "    (col(\"overs\").cast(\"integer\") + 1).alias(\"overs\"),\n",
    "    col(\"ball\").cast(\"integer\").alias(\"ball\"),\n",
    "    col(\"runs_off_bat\"),\n",
    "    col(\"extras\"),\n",
    "    when(col(\"wides\").isNotNull(), \"WIDE\")\n",
    "        .when(col(\"noballs\").isNotNull(), \"NOBALL\")\n",
    "        .when(col(\"byes\").isNotNull(), \"BYE\")\n",
    "        .when(col(\"legbyes\").isNotNull(), \"LEGBYES\")\n",
    "        .when(col(\"penalty\").isNotNull(), \"PENALTY\")\n",
    "        .otherwise(None).alias(\"extras_type\"),\n",
    "    when(col(\"wicket_type\").isNull(), \"N\").otherwise(\"Y\").alias(\"wicket_flg\"),\n",
    "    col(\"wicket_type\"),\n",
    "    col(\"player_dismissed\"),\n",
    "    col(\"other_player_dismissed\")\n",
    ")\n",
    "\n",
    "result.show()\n"
   ]
  },
  {
   "cell_type": "code",
   "execution_count": null,
   "id": "e63d1cc3-e7ca-44f6-827f-730f3f6a3d9e",
   "metadata": {},
   "outputs": [],
   "source": []
  }
 ],
 "metadata": {
  "kernelspec": {
   "display_name": "Python 3 (ipykernel)",
   "language": "python",
   "name": "python3"
  },
  "language_info": {
   "codemirror_mode": {
    "name": "ipython",
    "version": 3
   },
   "file_extension": ".py",
   "mimetype": "text/x-python",
   "name": "python",
   "nbconvert_exporter": "python",
   "pygments_lexer": "ipython3",
   "version": "3.11.5"
  }
 },
 "nbformat": 4,
 "nbformat_minor": 5
}
