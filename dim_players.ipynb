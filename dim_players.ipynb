{
 "cells": [
  {
   "cell_type": "code",
   "execution_count": 6,
   "id": "267ecb45-42c1-4926-8bda-bcf3266963e1",
   "metadata": {},
   "outputs": [],
   "source": [
    "from pyspark.sql import SparkSession\n",
    "from pyspark.sql.functions import col"
   ]
  },
  {
   "cell_type": "code",
   "execution_count": 7,
   "id": "16d5f1f4-0d1b-41cc-95f2-b1c7b1f1a764",
   "metadata": {},
   "outputs": [],
   "source": [
    "import findspark\n",
    "findspark.init()"
   ]
  },
  {
   "cell_type": "code",
   "execution_count": 8,
   "id": "64191cf9-8924-465f-a235-82aa25c0c4c6",
   "metadata": {},
   "outputs": [],
   "source": [
    "spark=SparkSession.builder.appName('BigData Cricket Analysis').getOrCreate()"
   ]
  },
  {
   "cell_type": "code",
   "execution_count": 11,
   "id": "ac35dfd7-f006-45b8-abec-be5ad8e1a55d",
   "metadata": {},
   "outputs": [
    {
     "data": {
      "text/html": [
       "\n",
       "            <div>\n",
       "                <p><b>SparkSession - in-memory</b></p>\n",
       "                \n",
       "        <div>\n",
       "            <p><b>SparkContext</b></p>\n",
       "\n",
       "            <p><a href=\"http://10.140.49.165:4041\">Spark UI</a></p>\n",
       "\n",
       "            <dl>\n",
       "              <dt>Version</dt>\n",
       "                <dd><code>v3.5.1</code></dd>\n",
       "              <dt>Master</dt>\n",
       "                <dd><code>local[*]</code></dd>\n",
       "              <dt>AppName</dt>\n",
       "                <dd><code>BigData Cricket Analysis</code></dd>\n",
       "            </dl>\n",
       "        </div>\n",
       "        \n",
       "            </div>\n",
       "        "
      ],
      "text/plain": [
       "<pyspark.sql.session.SparkSession at 0x14fb5f74c10>"
      ]
     },
     "execution_count": 11,
     "metadata": {},
     "output_type": "execute_result"
    }
   ],
   "source": [
    "spark"
   ]
  },
  {
   "cell_type": "code",
   "execution_count": 12,
   "id": "d015d731-a594-4be9-b3e2-093b0b7bcad8",
   "metadata": {},
   "outputs": [],
   "source": [
    "fact_balls = spark.read.csv(\"C:\\\\Users\\\\Patron\\\\Downloads\\\\balls.csv\", header = True)\n",
    "dim_matches = spark.read.csv(\"C:\\\\Users\\\\Patron\\\\Downloads\\\\matches.csv\", header = True)\n",
    "dim_players = spark.read.csv(\"C:\\\\Users\\\\Patron\\\\Downloads\\\\players.csv\", header = True)"
   ]
  },
  {
   "cell_type": "code",
   "execution_count": 19,
   "id": "76a072a3-d559-4985-8f0f-b9727b641217",
   "metadata": {},
   "outputs": [
    {
     "name": "stdout",
     "output_type": "stream",
     "text": [
      "+---------+-----------+----+--------+\n",
      "|registery|player_name|team|match_id|\n",
      "+---------+-----------+----+--------+\n",
      "| 017e2f0d|Amogh Desai| Goa| 1244335|\n",
      "| 017e2f0d|Amogh Desai| Goa| 1157133|\n",
      "| 017e2f0d|Amogh Desai| Goa| 1130692|\n",
      "| 017e2f0d|Amogh Desai| Goa| 1157149|\n",
      "| 017e2f0d|Amogh Desai| Goa| 1157182|\n",
      "| 017e2f0d|Amogh Desai| Goa| 1130679|\n",
      "| 017e2f0d|Amogh Desai| Goa| 1130715|\n",
      "| 017e2f0d|Amogh Desai| Goa| 1244372|\n",
      "| 017e2f0d|Amogh Desai| Goa| 1280255|\n",
      "| 017e2f0d|Amogh Desai| Goa| 1130665|\n",
      "| 017e2f0d|Amogh Desai| Goa| 1157201|\n",
      "| 017e2f0d|Amogh Desai| Goa| 1157116|\n",
      "| 017e2f0d|Amogh Desai| Goa| 1157165|\n",
      "| 017e2f0d|Amogh Desai| Goa| 1244317|\n",
      "| 017e2f0d|Amogh Desai| Goa| 1130696|\n",
      "| 031b389c|SS Bandekar| Goa|  902195|\n",
      "| 031b389c|SS Bandekar| Goa|  902219|\n",
      "| 031b389c|SS Bandekar| Goa|  902147|\n",
      "| 031b389c|SS Bandekar| Goa|  902123|\n",
      "| 031b389c|SS Bandekar| Goa|  902175|\n",
      "+---------+-----------+----+--------+\n",
      "only showing top 20 rows\n",
      "\n"
     ]
    }
   ],
   "source": [
    "\n",
    "\n",
    "# Selecting the required columns\n",
    "result = dim_players.select(\n",
    "    col(\"player_id\").alias(\"registery\"),\n",
    "    col(\"player_name\"),\n",
    "    col(\"team\"),\n",
    "    col(\"match_id\")\n",
    ")\n",
    "\n",
    "result.show()\n",
    "\n",
    "# Stop the Spark session\n",
    "spark.stop()\n"
   ]
  },
  {
   "cell_type": "code",
   "execution_count": null,
   "id": "38bbdcda-9c91-4884-9a88-bac421a7a7b5",
   "metadata": {},
   "outputs": [],
   "source": []
  }
 ],
 "metadata": {
  "kernelspec": {
   "display_name": "Python 3 (ipykernel)",
   "language": "python",
   "name": "python3"
  },
  "language_info": {
   "codemirror_mode": {
    "name": "ipython",
    "version": 3
   },
   "file_extension": ".py",
   "mimetype": "text/x-python",
   "name": "python",
   "nbconvert_exporter": "python",
   "pygments_lexer": "ipython3",
   "version": "3.11.5"
  }
 },
 "nbformat": 4,
 "nbformat_minor": 5
}
