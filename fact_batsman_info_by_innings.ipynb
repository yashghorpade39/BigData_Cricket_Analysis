{
 "cells": [
  {
   "cell_type": "code",
   "execution_count": 1,
   "id": "0b85ef0c-e097-41d1-8144-de4587dbd420",
   "metadata": {},
   "outputs": [],
   "source": [
    "from pyspark.sql import SparkSession"
   ]
  },
  {
   "cell_type": "code",
   "execution_count": 2,
   "id": "8d3a9281-5195-48f0-bd12-127c24cf53dd",
   "metadata": {},
   "outputs": [],
   "source": [
    "import findspark\n",
    "findspark.init()"
   ]
  },
  {
   "cell_type": "code",
   "execution_count": 3,
   "id": "0bc48035-3b13-4d5a-b468-bbb9ca2f53aa",
   "metadata": {},
   "outputs": [],
   "source": [
    "spark=SparkSession.builder.appName('BigData Cricket Analysis').getOrCreate()"
   ]
  },
  {
   "cell_type": "code",
   "execution_count": 4,
   "id": "09f2f61f-1b6f-499b-b8a0-10de5df735a3",
   "metadata": {},
   "outputs": [
    {
     "data": {
      "text/html": [
       "\n",
       "            <div>\n",
       "                <p><b>SparkSession - in-memory</b></p>\n",
       "                \n",
       "        <div>\n",
       "            <p><b>SparkContext</b></p>\n",
       "\n",
       "            <p><a href=\"http://10.140.49.165:4040\">Spark UI</a></p>\n",
       "\n",
       "            <dl>\n",
       "              <dt>Version</dt>\n",
       "                <dd><code>v3.5.1</code></dd>\n",
       "              <dt>Master</dt>\n",
       "                <dd><code>local[*]</code></dd>\n",
       "              <dt>AppName</dt>\n",
       "                <dd><code>BigData Cricket Analysis</code></dd>\n",
       "            </dl>\n",
       "        </div>\n",
       "        \n",
       "            </div>\n",
       "        "
      ],
      "text/plain": [
       "<pyspark.sql.session.SparkSession at 0x19c888e6210>"
      ]
     },
     "execution_count": 4,
     "metadata": {},
     "output_type": "execute_result"
    }
   ],
   "source": [
    "spark"
   ]
  },
  {
   "cell_type": "code",
   "execution_count": 7,
   "id": "c285099c-b405-4937-aa9d-6bcae0c51c23",
   "metadata": {},
   "outputs": [],
   "source": [
    "fact_balls = spark.read.csv(\"C:\\\\Users\\\\Patron\\\\Downloads\\\\balls.csv\", header = True)\n",
    "dim_matches = spark.read.csv(\"C:\\\\Users\\\\Patron\\\\Downloads\\\\matches.csv\", header = True)\n",
    "dim_players = spark.read.csv(\"C:\\\\Users\\\\Patron\\\\Downloads\\\\players.csv\", header = True)"
   ]
  },
  {
   "cell_type": "code",
   "execution_count": 9,
   "id": "ae34174d-5e61-48dc-8219-11487cba1d21",
   "metadata": {},
   "outputs": [],
   "source": [
    "import pyspark.sql.functions as F"
   ]
  },
  {
   "cell_type": "code",
   "execution_count": 10,
   "id": "fd63e768-bcc1-438b-b6ae-341dee916fe6",
   "metadata": {},
   "outputs": [
    {
     "name": "stdout",
     "output_type": "stream",
     "text": [
      "+--------+----------+--------------------+------------+--------+--------------+----+-----------+---+---+---+----------+\n",
      "|match_id|match_date|               event|        team| batsman|innings_number|runs|balls_faced| 0s| 4s| 6s|strikerate|\n",
      "+--------+----------+--------------------+------------+--------+--------------+----+-----------+---+---+---+----------+\n",
      "| 1000851|2016-11-04|South Africa in A...|South Africa|AC Voges|             2|27.0|         60| 49|  4|  0|      45.0|\n",
      "| 1000851|2016-11-04|South Africa in A...|South Africa|AC Voges|             4| 1.0|         12| 11|  0|  0|      8.33|\n",
      "| 1000851|2016-11-07|South Africa in A...|South Africa|AC Voges|             2|27.0|         60| 49|  4|  0|      45.0|\n",
      "| 1000851|2016-11-07|South Africa in A...|South Africa|AC Voges|             4| 1.0|         12| 11|  0|  0|      8.33|\n",
      "| 1000851|2016-11-04|South Africa in A...|   Australia|AC Voges|             2|27.0|         60| 49|  4|  0|      45.0|\n",
      "| 1000851|2016-11-04|South Africa in A...|   Australia|AC Voges|             4| 1.0|         12| 11|  0|  0|      8.33|\n",
      "| 1000851|2016-11-07|South Africa in A...|   Australia|AC Voges|             2|27.0|         60| 49|  4|  0|      45.0|\n",
      "| 1000851|2016-11-07|South Africa in A...|   Australia|AC Voges|             4| 1.0|         12| 11|  0|  0|      8.33|\n",
      "| 1000851|2016-11-06|South Africa in A...|South Africa|AC Voges|             2|27.0|         60| 49|  4|  0|      45.0|\n",
      "| 1000851|2016-11-06|South Africa in A...|South Africa|AC Voges|             4| 1.0|         12| 11|  0|  0|      8.33|\n",
      "| 1000851|2016-11-05|South Africa in A...|   Australia|AC Voges|             2|27.0|         60| 49|  4|  0|      45.0|\n",
      "| 1000851|2016-11-05|South Africa in A...|   Australia|AC Voges|             4| 1.0|         12| 11|  0|  0|      8.33|\n",
      "| 1000851|2016-11-03|South Africa in A...|South Africa|AC Voges|             2|27.0|         60| 49|  4|  0|      45.0|\n",
      "| 1000851|2016-11-03|South Africa in A...|South Africa|AC Voges|             4| 1.0|         12| 11|  0|  0|      8.33|\n",
      "| 1000851|2016-11-06|South Africa in A...|   Australia|AC Voges|             2|27.0|         60| 49|  4|  0|      45.0|\n",
      "| 1000851|2016-11-06|South Africa in A...|   Australia|AC Voges|             4| 1.0|         12| 11|  0|  0|      8.33|\n",
      "| 1000851|2016-11-05|South Africa in A...|South Africa|AC Voges|             2|27.0|         60| 49|  4|  0|      45.0|\n",
      "| 1000851|2016-11-05|South Africa in A...|South Africa|AC Voges|             4| 1.0|         12| 11|  0|  0|      8.33|\n",
      "| 1000851|2016-11-03|South Africa in A...|   Australia|AC Voges|             2|27.0|         60| 49|  4|  0|      45.0|\n",
      "| 1000851|2016-11-03|South Africa in A...|   Australia|AC Voges|             4| 1.0|         12| 11|  0|  0|      8.33|\n",
      "+--------+----------+--------------------+------------+--------+--------------+----+-----------+---+---+---+----------+\n",
      "only showing top 20 rows\n",
      "\n"
     ]
    }
   ],
   "source": [
    "# Calculate bat_details\n",
    "bat_details = fact_balls.groupBy('match_id', 'innings', 'striker') \\\n",
    "    .agg(\n",
    "        F.sum('runs_off_bat').alias('runs'),\n",
    "        F.sum(F.when(F.col('extras_type') == 'WIDE', 0).otherwise(1)).alias('balls_faced'),\n",
    "        (F.sum(F.when(F.col('runs_off_bat') == 0, 1).otherwise(0)) -\n",
    "         F.sum(F.when(F.col('extras_type') == 'WIDE', 1).otherwise(0))).alias('0s'),\n",
    "        F.sum(F.when(F.col('runs_off_bat') == 4, 1).otherwise(0)).alias('4s'),\n",
    "        F.sum(F.when(F.col('runs_off_bat') == 6, 1).otherwise(0)).alias('6s')\n",
    "    )\n",
    "\n",
    "# Join with dim_players and dim_matches\n",
    "players = dim_players.select(\"match_id\", \"player_id\", \"player_name\", \"team\")\n",
    "matches = dim_matches.select(\"match_id\", \"team\", \"event\", \"dates_played\").withColumnRenamed(\"dates_played\", \"match_date\")\n",
    "\n",
    "# Calculate player_dismissed_flg\n",
    "player_dismissed_flg = fact_balls.filter(F.col(\"player_dismissed\").isNotNull()) \\\n",
    "    .groupBy(\"match_id\", \"innings\") \\\n",
    "    .agg(F.collect_list(\"player_dismissed\").alias(\"dismissed_players\"))\n",
    "\n",
    "# Join bat_details, players, matches, and player_dismissed_flg\n",
    "score_data = matches.join(players, \"match_id\") \\\n",
    "    .join(bat_details, (matches.match_id == bat_details.match_id) & (players.player_name == bat_details.striker)) \\\n",
    "    .join(player_dismissed_flg, (matches.match_id == player_dismissed_flg.match_id) & (bat_details.innings == player_dismissed_flg.innings)) \\\n",
    "    .select(\n",
    "        matches[\"match_id\"], \"match_date\", \"event\", matches[\"team\"],\n",
    "        bat_details.striker.alias(\"batsman\"), bat_details.innings.alias(\"innings_number\"),\n",
    "        \"runs\", \"balls_faced\", \"0s\", \"4s\", \"6s\",\n",
    "        F.round((bat_details.runs / bat_details.balls_faced) * 100, 2).alias(\"strikerate\")\n",
    "    )\n",
    "\n",
    "# Show the result\n",
    "score_data.show()"
   ]
  },
  {
   "cell_type": "code",
   "execution_count": null,
   "id": "05d49421-071e-40d2-a024-4a3bf12b26e8",
   "metadata": {},
   "outputs": [],
   "source": []
  }
 ],
 "metadata": {
  "kernelspec": {
   "display_name": "Python 3 (ipykernel)",
   "language": "python",
   "name": "python3"
  },
  "language_info": {
   "codemirror_mode": {
    "name": "ipython",
    "version": 3
   },
   "file_extension": ".py",
   "mimetype": "text/x-python",
   "name": "python",
   "nbconvert_exporter": "python",
   "pygments_lexer": "ipython3",
   "version": "3.11.5"
  }
 },
 "nbformat": 4,
 "nbformat_minor": 5
}
